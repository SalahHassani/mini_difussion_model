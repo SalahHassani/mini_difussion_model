{
 "cells": [
  {
   "cell_type": "code",
   "execution_count": null,
   "metadata": {},
   "outputs": [],
   "source": [
    "from TrainingModel import *\n",
    "from Sampling import sample_ddpm, plot_sample\n",
    "\n",
    "# if you want to retrain the model, you can uncomment this\n",
    "# train_mini_diffusion_model()"
   ]
  },
  {
   "cell_type": "code",
   "execution_count": null,
   "metadata": {},
   "outputs": [],
   "source": [
    "# load in model weights and set to eval mode\n",
    "nn_model.load_state_dict(torch.load(save_dir + \"context_model_0.pth\", map_location=device))\n",
    "nn_model.eval()\n",
    "print('loaded in model\\n\\n')\n",
    "\n",
    "plt.clf()\n",
    "samples,  intermediate = sample_ddpm(32)\n",
    "animation_ddpm = plot_sample(intermediate, 32, 4, save_dir, \"ani_run\", None, save=False)\n",
    "HTML(animation_ddpm.to_jshtml())"
   ]
  },
  {
   "cell_type": "code",
   "execution_count": null,
   "metadata": {},
   "outputs": [],
   "source": [
    "# load in model weights and set to eval mode\n",
    "nn_model.load_state_dict(torch.load(save_dir + \"context_model_4.pth\", map_location=device))\n",
    "nn_model.eval()\n",
    "print('loaded in model\\n\\n')\n",
    "\n",
    "plt.clf()\n",
    "samples,  intermediate = sample_ddpm(32)\n",
    "animation_ddpm = plot_sample(intermediate, 32, 4, save_dir, \"ani_run\", None, save=False)\n",
    "HTML(animation_ddpm.to_jshtml())"
   ]
  },
  {
   "cell_type": "code",
   "execution_count": null,
   "metadata": {},
   "outputs": [],
   "source": [
    "# load in model weights and set to eval mode\n",
    "nn_model.load_state_dict(torch.load(save_dir + \"context_model_8.pth\", map_location=device))\n",
    "nn_model.eval()\n",
    "print('loaded in model\\n\\n')\n",
    "\n",
    "plt.clf()\n",
    "samples,  intermediate = sample_ddpm(32)\n",
    "animation_ddpm = plot_sample(intermediate, 32, 4, save_dir, \"ani_run\", None, save=False)\n",
    "HTML(animation_ddpm.to_jshtml())"
   ]
  },
  {
   "cell_type": "code",
   "execution_count": null,
   "metadata": {},
   "outputs": [],
   "source": [
    "# load in model weights and set to eval mode\n",
    "nn_model.load_state_dict(torch.load(save_dir + \"context_model_16.pth\", map_location=device))\n",
    "nn_model.eval()\n",
    "print('loaded in model\\n\\n')\n",
    "\n",
    "plt.clf()\n",
    "samples,  intermediate = sample_ddpm(32)\n",
    "animation_ddpm = plot_sample(intermediate, 32, 4, save_dir, \"ani_run\", None, save=False)\n",
    "HTML(animation_ddpm.to_jshtml())"
   ]
  },
  {
   "cell_type": "code",
   "execution_count": null,
   "metadata": {},
   "outputs": [],
   "source": [
    "# load in model weights and set to eval mode\n",
    "nn_model.load_state_dict(torch.load(save_dir + \"context_model_31.pth\", map_location=device))\n",
    "nn_model.eval()\n",
    "print('loaded in model\\n\\n')\n",
    "\n",
    "plt.clf()\n",
    "samples,  intermediate = sample_ddpm(32)\n",
    "animation_ddpm = plot_sample(intermediate, 32, 4, save_dir, \"ani_run\", None, save=False)\n",
    "HTML(animation_ddpm.to_jshtml())"
   ]
  }
 ],
 "metadata": {
  "kernelspec": {
   "display_name": "Python 3",
   "language": "python",
   "name": "python3"
  },
  "language_info": {
   "codemirror_mode": {
    "name": "ipython",
    "version": 3
   },
   "file_extension": ".py",
   "mimetype": "text/x-python",
   "name": "python",
   "nbconvert_exporter": "python",
   "pygments_lexer": "ipython3",
   "version": "3.11.0"
  }
 },
 "nbformat": 4,
 "nbformat_minor": 2
}
